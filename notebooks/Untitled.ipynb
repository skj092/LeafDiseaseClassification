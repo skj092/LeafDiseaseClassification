{
 "cells": [
  {
   "cell_type": "code",
   "execution_count": 3,
   "id": "aaf63a3e-7eb1-4131-881d-5a5b444320b4",
   "metadata": {},
   "outputs": [],
   "source": [
    "from torch.utils.data import Dataset, DataLoader\n",
    "import torchvision.transforms as transforms\n",
    "import pandas as pd\n",
    "from PIL import Image\n",
    "import os\n",
    "import torch\n",
    "\n",
    "\n",
    "class LeafDataset(Dataset):\n",
    "    def __init__(self, df, data_dir, transforms=None):\n",
    "        self.df = df\n",
    "        self.data_dir = data_dir\n",
    "        self.transforms = transforms\n",
    "\n",
    "    def __len__(self):\n",
    "        return len(self.df)\n",
    "\n",
    "    def __getitem__(self, idx):\n",
    "        img_name = self.df.iloc[idx, 0]\n",
    "        label = self.df.iloc[idx, 1]\n",
    "\n",
    "        img_path = os.path.join(self.data_dir, 'train_images', img_name)\n",
    "        img = Image.open(img_path).resize((224, 224))\n",
    "        if self.transforms:\n",
    "            img = self.transforms(img)\n",
    "\n",
    "        return img, torch.tensor(label, dtype=torch.long)\n",
    "\n"
   ]
  },
  {
   "cell_type": "code",
   "execution_count": 5,
   "id": "e154ecfd-d8de-40de-bb4f-b8ecb9bc6e56",
   "metadata": {},
   "outputs": [
    {
     "name": "stderr",
     "output_type": "stream",
     "text": [
      "/home/sonujha/rnd/LeafDiseaseClassification/.venv/lib/python3.12/site-packages/torchvision/models/_utils.py:208: UserWarning: The parameter 'pretrained' is deprecated since 0.13 and may be removed in the future, please use 'weights' instead.\n",
      "  warnings.warn(\n",
      "/home/sonujha/rnd/LeafDiseaseClassification/.venv/lib/python3.12/site-packages/torchvision/models/_utils.py:223: UserWarning: Arguments other than a weight enum or `None` for 'weights' are deprecated since 0.13 and may be removed in the future. The current behavior is equivalent to passing `weights=ResNet18_Weights.IMAGENET1K_V1`. You can also use `weights=ResNet18_Weights.DEFAULT` to get the most up-to-date weights.\n",
      "  warnings.warn(msg)\n"
     ]
    }
   ],
   "source": [
    "from torchvision.models import resnet18\n",
    "import torch.nn as nn\n",
    "import pandas as pd\n",
    "from torchvision import transforms\n",
    "from torch.utils.data import DataLoader\n",
    "import torch\n",
    "from sklearn.metrics import accuracy_score\n",
    "\n",
    "import sys\n",
    "\n",
    "model = resnet18(pretrained=True)\n",
    "model.fc = nn.Linear(512, 5)\n"
   ]
  },
  {
   "cell_type": "code",
   "execution_count": 11,
   "id": "e5680a9c-86cf-47de-b623-14be30a1dce2",
   "metadata": {},
   "outputs": [],
   "source": [
    "class config:\n",
    "\n",
    "    batch_size = 8\n",
    "    device = torch.device(\"cuda:0\" if torch.cuda.is_available() else \"cpu\")\n",
    "    lr = 0.01\n",
    "    MODEL_PATH = \"models\"\n",
    "    N_EPOCHS = 2\n",
    "    \n",
    "    train_tfms = transforms.Compose([transforms.Resize((224, 224)), transforms.ToTensor(),\n",
    "                                     transforms.Normalize((0.5, 0.5, 0.5), (0.5, 0.5, 0.5))])\n",
    "    valid_tfms = transforms.Compose(\n",
    "        [transforms.Resize((224, 224)), transforms.ToTensor(),])\n"
   ]
  },
  {
   "cell_type": "code",
   "execution_count": 12,
   "id": "1657c22c-093f-42c7-85c4-0b77a9c5fec0",
   "metadata": {},
   "outputs": [],
   "source": [
    "from tqdm import tqdm\n",
    "import torch\n",
    "\n",
    "\n",
    "def train_one_epoch(model, train_dl, valid_dl, criterion, optimizer):\n",
    "    model.train()\n",
    "    train_loss, train_acc = 0, 0\n",
    "    loop = tqdm(train_dl)\n",
    "    for i, (img, label) in enumerate(loop):\n",
    "        img = img.to(config.device)\n",
    "        label = label.to(config.device)\n",
    "        optimizer.zero_grad()\n",
    "        output = model(img)\n",
    "        loss = criterion(output, label)\n",
    "        loss.backward()\n",
    "        train_loss += loss.item()\n",
    "        optimizer.step()\n",
    "        train_acc += (torch.argmax(output, dim=1) == label).float().mean().item()\n",
    "    model.eval()\n",
    "    valid_loss, valid_acc = 0, 0\n",
    "    with torch.no_grad():\n",
    "        for i, (img, label) in enumerate(valid_dl):\n",
    "            img = img.to(config.device)\n",
    "            label = label.to(config.device)\n",
    "            output = model(img)\n",
    "            valid_loss += criterion(output, label).item()\n",
    "            valid_acc += (torch.argmax(output, dim=1) == label).float().mean().item()\n",
    "    train_loss = train_loss / len(train_dl)\n",
    "    valid_loss = valid_loss / len(valid_dl)\n",
    "    train_acc = train_acc / len(train_dl)\n",
    "    valid_acc = valid_acc / len(valid_dl)\n",
    "    print(f\"train_loss {train_loss:.3f}, valid_loss {valid_loss:.3f}\")\n",
    "    print(f\"train_acc {train_acc:.3f}, valid_acc {valid_acc:.3f}\")\n",
    "    return train_loss, valid_loss"
   ]
  },
  {
   "cell_type": "code",
   "execution_count": 13,
   "id": "3913db63-539f-420c-a5d2-37daa87ff0e9",
   "metadata": {},
   "outputs": [],
   "source": [
    "import pandas as pd\n",
    "from sklearn import model_selection\n",
    "import os\n",
    "\n",
    "\n",
    "def get_fold(root):\n",
    "    csv_path = os.path.join(root, 'train.csv')\n",
    "    df = pd.read_csv(csv_path)\n",
    "\n",
    "    df[\"kfold\"] = -1\n",
    "\n",
    "    df = df.sample(frac=0.1).reset_index(drop=True)\n",
    "\n",
    "    label = df.label.values\n",
    "\n",
    "    kf = model_selection.StratifiedKFold(n_splits=5)\n",
    "\n",
    "    for f, (t_, v_) in enumerate(kf.split(X=df, y=label)):\n",
    "        df.loc[v_, \"kfold\"] = f\n",
    "\n",
    "    #df.to_csv(\"data/train_fold.csv\", index=False)\n",
    "    return df\n"
   ]
  },
  {
   "cell_type": "code",
   "execution_count": 18,
   "id": "d3a44064-389e-4412-9f90-fa73beaaca2e",
   "metadata": {},
   "outputs": [
    {
     "name": "stderr",
     "output_type": "stream",
     "text": [
      "100%|█████████████████████████████████████████████████████████| 13/13 [00:05<00:00,  2.42it/s]\n"
     ]
    },
    {
     "name": "stdout",
     "output_type": "stream",
     "text": [
      "train_loss 2.914, valid_loss 412.248\n",
      "train_acc 0.385, valid_acc 0.125\n"
     ]
    },
    {
     "name": "stderr",
     "output_type": "stream",
     "text": [
      "100%|█████████████████████████████████████████████████████████| 13/13 [00:06<00:00,  1.95it/s]\n"
     ]
    },
    {
     "name": "stdout",
     "output_type": "stream",
     "text": [
      "train_loss 1.806, valid_loss 215.871\n",
      "train_acc 0.337, valid_acc 0.125\n"
     ]
    }
   ],
   "source": [
    "from torch.utils.data import DataLoader, Subset\n",
    "import numpy as np\n",
    "from pathlib import Path\n",
    "\n",
    "data_path = '../data'\n",
    "\n",
    "df = get_fold(data_path)\n",
    "\n",
    "train_df = df[df.kfold != 0].reset_index(drop=True)\n",
    "valid_df = df[df.kfold == 1].reset_index(drop=True)\n",
    "\n",
    "train_ds = LeafDataset(train_df, data_path, transforms=config.train_tfms)\n",
    "valid_ds = LeafDataset(valid_df, data_path, transforms=config.valid_tfms)\n",
    "\n",
    "train_ds = Subset(train_ds, np.arange(100))\n",
    "valid_ds = Subset(valid_ds, np.arange(24))\n",
    "\n",
    "train_dl = DataLoader(train_ds, batch_size=config.batch_size, shuffle=True)\n",
    "valid_dl = DataLoader(valid_ds, batch_size=config.batch_size, shuffle=False)\n",
    "\n",
    "model = model.to(config.device)\n",
    "\n",
    "loss_fn = nn.CrossEntropyLoss()\n",
    "optimizer = torch.optim.Adam(model.parameters(), lr=config.lr)\n",
    "\n",
    "for epoch in range(config.N_EPOCHS):\n",
    "    train_one_epoch(model, train_dl, valid_dl, loss_fn, optimizer)\n"
   ]
  },
  {
   "cell_type": "code",
   "execution_count": 19,
   "id": "27e7aafd-a858-467e-b673-87c691865ddb",
   "metadata": {},
   "outputs": [],
   "source": [
    "# First, create a hook function to store outputs\n",
    "activations = {}\n",
    "\n",
    "def get_activation(name):\n",
    "    def hook(model, input, output):\n",
    "        activations[name] = output.detach()\n",
    "    return hook\n",
    "\n",
    "# Register hooks for each layer you want to monitor\n",
    "def register_layer_hooks(model):\n",
    "    # Register for main layers\n",
    "    model.layer1.register_forward_hook(get_activation('layer1'))\n",
    "    model.layer2.register_forward_hook(get_activation('layer2'))\n",
    "    model.layer3.register_forward_hook(get_activation('layer3'))\n",
    "    model.layer4.register_forward_hook(get_activation('layer4'))\n",
    "    \n",
    "    # Also register for final layer\n",
    "    model.fc.register_forward_hook(get_activation('fc'))\n",
    "\n",
    "# In your training/validation loop, you can then examine the activations:\n",
    "def examine_activations():\n",
    "    for name, activation in activations.items():\n",
    "        print(f\"\\n{name} output:\")\n",
    "        print(f\"Shape: {activation.shape}\")\n",
    "        print(f\"Mean: {activation.mean().item():.4f}\")\n",
    "        print(f\"Std: {activation.std().item():.4f}\")\n",
    "        print(f\"Max: {activation.max().item():.4f}\")\n",
    "        print(f\"Min: {activation.min().item():.4f}\")"
   ]
  },
  {
   "cell_type": "code",
   "execution_count": 20,
   "id": "c9cea144-1e49-44a4-9ad3-cc13a5464bc6",
   "metadata": {},
   "outputs": [
    {
     "ename": "NameError",
     "evalue": "name 'inputs' is not defined",
     "output_type": "error",
     "traceback": [
      "\u001b[0;31m---------------------------------------------------------------------------\u001b[0m",
      "\u001b[0;31mNameError\u001b[0m                                 Traceback (most recent call last)",
      "Cell \u001b[0;32mIn[20], line 9\u001b[0m\n\u001b[1;32m      6\u001b[0m     \u001b[38;5;28mprint\u001b[39m(\u001b[38;5;124mf\u001b[39m\u001b[38;5;124m\"\u001b[39m\u001b[38;5;124mInput min: \u001b[39m\u001b[38;5;132;01m{\u001b[39;00mx\u001b[38;5;241m.\u001b[39mmin()\u001b[38;5;241m.\u001b[39mitem()\u001b[38;5;132;01m:\u001b[39;00m\u001b[38;5;124m.4f\u001b[39m\u001b[38;5;132;01m}\u001b[39;00m\u001b[38;5;124m\"\u001b[39m)\n\u001b[1;32m      8\u001b[0m \u001b[38;5;66;03m# In pdb:\u001b[39;00m\n\u001b[0;32m----> 9\u001b[0m check_input(\u001b[43minputs\u001b[49m)  \u001b[38;5;66;03m# Add this before model forward pass\u001b[39;00m\n",
      "\u001b[0;31mNameError\u001b[0m: name 'inputs' is not defined"
     ]
    }
   ],
   "source": [
    "# Check input normalization\n",
    "def check_input(x):\n",
    "    print(f\"Input mean: {x.mean().item():.4f}\")\n",
    "    print(f\"Input std: {x.std().item():.4f}\")\n",
    "    print(f\"Input max: {x.max().item():.4f}\")\n",
    "    print(f\"Input min: {x.min().item():.4f}\")\n",
    "\n",
    "# In pdb:\n",
    "check_input(inputs)  # Add this before model forward pass"
   ]
  },
  {
   "cell_type": "code",
   "execution_count": null,
   "id": "1a840d7f-195a-4b86-aadc-07af1a81cd95",
   "metadata": {},
   "outputs": [],
   "source": []
  }
 ],
 "metadata": {
  "kernelspec": {
   "display_name": "Python 3 (ipykernel)",
   "language": "python",
   "name": "python3"
  },
  "language_info": {
   "codemirror_mode": {
    "name": "ipython",
    "version": 3
   },
   "file_extension": ".py",
   "mimetype": "text/x-python",
   "name": "python",
   "nbconvert_exporter": "python",
   "pygments_lexer": "ipython3",
   "version": "3.12.0"
  }
 },
 "nbformat": 4,
 "nbformat_minor": 5
}
